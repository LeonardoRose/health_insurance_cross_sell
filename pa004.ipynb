{
 "cells": [
  {
   "cell_type": "markdown",
   "id": "9f2cdcc7",
   "metadata": {},
   "source": [
    "# 0.0. Helper Functions"
   ]
  },
  {
   "cell_type": "code",
   "execution_count": 1,
   "id": "40c09fa0",
   "metadata": {
    "ExecuteTime": {
     "end_time": "2023-03-31T17:13:13.344320Z",
     "start_time": "2023-03-31T17:13:11.666849Z"
    }
   },
   "outputs": [],
   "source": [
    "# exploratory data analysis\n",
    "import pandas                 as pd\n",
    "import numpy                  as np\n",
    "import seaborn                as sns\n",
    "# import matplotlib             as plt\n",
    "import matplotlib.pyplot      as plt\n",
    "\n",
    "# jupyter settings\n",
    "from IPython.core.display     import HTML\n",
    "\n",
    "# data extraction\n",
    "import pandas.io.sql          as psql\n",
    "import psycopg2               as pg\n",
    "\n",
    "from sqlalchemy               import create_engine, text\n",
    "from sqlalchemy_utils         import database_exists, create_database\n",
    "\n",
    "# useless\n",
    "# from postgre_credentials import *\n",
    "\n",
    "# import xgboost as xgb\n",
    "\n",
    "from sklearn.linear_model    import LogisticRegression\n",
    "from category_encoders.count import CountEncoder\n",
    "from sklearn.model_selection import train_test_split\n",
    "from sklearn                 import metrics as mt\n",
    "from sklearn.neighbors       import KNeighborsClassifier\n",
    "from category_encoders       import TargetEncoder\n",
    "from sklearn.preprocessing   import RobustScaler\n",
    "from sklearn.metrics         import accuracy_score, precision_score, recall_score, f1_score, roc_auc_score, confusion_matrix, cohen_kappa_score\n",
    "from sklearn.model_selection import KFold, cross_val_score,GridSearchCV"
   ]
  },
  {
   "cell_type": "code",
   "execution_count": 2,
   "id": "ab0ab773",
   "metadata": {
    "ExecuteTime": {
     "end_time": "2023-03-31T17:13:13.375327Z",
     "start_time": "2023-03-31T17:13:13.345321Z"
    }
   },
   "outputs": [
    {
     "data": {
      "text/html": [
       "<style>.container { width:100% !important; }</style>"
      ],
      "text/plain": [
       "<IPython.core.display.HTML object>"
      ]
     },
     "metadata": {},
     "output_type": "display_data"
    }
   ],
   "source": [
    "def psycopg_connect():\n",
    "    \"\"\"\"\" Creates a psycopg connection from file postgre_credentials \"\"\"\"\"\n",
    "    conn = pg.connect(    user = username,\n",
    "                          password = pwd,\n",
    "                          host = host,\n",
    "                          port = port,\n",
    "                          database = database)\n",
    "    return conn\n",
    "\n",
    "def jupyter_settings():\n",
    "    \"\"\" Optimize general settings, standardize plot sizes, etc. \"\"\"\n",
    "    %matplotlib inline\n",
    "    plt.style.use( 'bmh' )\n",
    "    plt.rcParams['figure.figsize'] = [12, 6]\n",
    "    plt.rcParams['font.size'] = 12\n",
    "    display( HTML( '<style>.container { width:100% !important; }</style>') )\n",
    "    pd.options.display.max_columns = None\n",
    "    pd.options.display.max_rows = None\n",
    "    pd.set_option( 'display.expand_frame_repr', False )\n",
    "    sns.set()\n",
    "    pd.set_option('display.max_columns', 30)\n",
    "    pd.set_option('display.max_rows', 30)\n",
    "jupyter_settings()\n",
    "\n",
    "def subplots_adjust():\n",
    "    plt.subplots_adjust(left=0.1,\n",
    "                    bottom=0.1,\n",
    "                    right=0.9,\n",
    "                    top=0.9,\n",
    "                    wspace=0.4,\n",
    "                    hspace=0.4)\n"
   ]
  },
  {
   "cell_type": "markdown",
   "id": "5701da21",
   "metadata": {},
   "source": [
    "# 1.0 Loading Data"
   ]
  },
  {
   "cell_type": "markdown",
   "id": "756f59cc",
   "metadata": {},
   "source": [
    "## 1.1 Database - Credentials & Connector "
   ]
  },
  {
   "cell_type": "code",
   "execution_count": 3,
   "id": "b01d20b1",
   "metadata": {
    "ExecuteTime": {
     "end_time": "2023-03-31T17:13:13.391141Z",
     "start_time": "2023-03-31T17:13:13.377328Z"
    }
   },
   "outputs": [],
   "source": [
    "# # Credentials\n",
    "# host = 'comunidade-ds-postgres.c50pcakiuwi3.us-east-1.rds.amazonaws.com'\n",
    "# port = '5432'\n",
    "# database = 'comunidadedsdb'\n",
    "# username = 'member'\n",
    "# pwd = 'cdspa'\n",
    "\n",
    "# # Connector\n",
    "# conn = pg.connect( user=username,\n",
    "#                    password=pwd,\n",
    "#                    host=host,\n",
    "#                    port=port,\n",
    "#                    database=database)"
   ]
  },
  {
   "cell_type": "markdown",
   "id": "fff97f1e",
   "metadata": {},
   "source": [
    "## 1.2 Data Collection - Tables and Schema Query"
   ]
  },
  {
   "cell_type": "code",
   "execution_count": 4,
   "id": "11f39ba4",
   "metadata": {
    "ExecuteTime": {
     "end_time": "2023-03-31T17:13:13.406610Z",
     "start_time": "2023-03-31T17:13:13.392142Z"
    }
   },
   "outputs": [],
   "source": [
    "# # psycopg_connect()\n",
    "\n",
    "# engine = create_engine('postgresql://'+username+':'+pwd+'@'+host+':'+port+'/'+database+'')\n",
    "\n",
    "# with engine.begin() as conn: \n",
    "#     #select tables from schema\n",
    "#     query_tables = \"SELECT * FROM information_schema.tables WHERE table_schema = 'pa004'\"\n",
    "#     df_tables = pd.read_sql( text(query_tables) , conn )\n",
    "\n",
    "#     # users\n",
    "#     query_users = \"\"\"SELECT * FROM pa004.users \"\"\"\n",
    "#     df_users = pd.read_sql( text(query_users) , conn )\n",
    "    \n",
    "#     # insurance\n",
    "#     query_insurance = \"\"\"SELECT * FROM pa004.insurance \"\"\"\n",
    "#     df_insurance = pd.read_sql( text(query_insurance) , conn )\n",
    "\n",
    "#     # vehicle\n",
    "#     query_vehicle = \"\"\"SELECT * FROM pa004.vehicle \"\"\"\n",
    "#     df_vehicle = pd.read_sql( text(query_vehicle) , conn )\n",
    "\n",
    "#     #build raw dataset:\n",
    "#     query_raw = \"\"\"\n",
    "#     SELECT *\n",
    "#     FROM pa004.users u \n",
    "#     INNER JOIN pa004.vehicle v on u.id = v.id \n",
    "#     INNER JOIN pa004.insurance i ON u.id = i.id\n",
    "#     ORDER BY u.id\n",
    "#     \"\"\"\n",
    "#     df_raw = pd.read_sql( text(query_raw) , conn )"
   ]
  },
  {
   "cell_type": "markdown",
   "id": "f6df807d",
   "metadata": {},
   "source": [
    "## 1.3 Creating the main DataFrame - df_raw"
   ]
  },
  {
   "cell_type": "code",
   "execution_count": 5,
   "id": "5b60ab66",
   "metadata": {
    "ExecuteTime": {
     "end_time": "2023-03-31T17:13:13.422614Z",
     "start_time": "2023-03-31T17:13:13.407612Z"
    }
   },
   "outputs": [],
   "source": [
    "# # creating df_raw\n",
    "# df_raw = df_raw.loc[:,~df_raw.columns.duplicated()]\n",
    "# df_raw.head()"
   ]
  },
  {
   "cell_type": "code",
   "execution_count": 6,
   "id": "11850d7e",
   "metadata": {
    "ExecuteTime": {
     "end_time": "2023-03-31T17:13:13.437618Z",
     "start_time": "2023-03-31T17:13:13.423615Z"
    }
   },
   "outputs": [],
   "source": [
    "# df_raw.to_csv('df_raw.csv', index=False)"
   ]
  },
  {
   "cell_type": "code",
   "execution_count": 7,
   "id": "87e0bf47",
   "metadata": {
    "ExecuteTime": {
     "end_time": "2023-03-31T17:13:13.660668Z",
     "start_time": "2023-03-31T17:13:13.438618Z"
    }
   },
   "outputs": [],
   "source": [
    "df_raw = pd.read_csv('./dataset/df_raw.csv')"
   ]
  },
  {
   "cell_type": "markdown",
   "id": "ac08c4c5",
   "metadata": {
    "ExecuteTime": {
     "end_time": "2023-03-28T22:53:28.911566Z",
     "start_time": "2023-03-28T22:53:28.895562Z"
    }
   },
   "source": [
    "# 2.0 Data Description"
   ]
  },
  {
   "cell_type": "code",
   "execution_count": 8,
   "id": "5494cee9",
   "metadata": {
    "ExecuteTime": {
     "end_time": "2023-03-31T17:13:13.676671Z",
     "start_time": "2023-03-31T17:13:13.661668Z"
    }
   },
   "outputs": [],
   "source": [
    "df2 = df_raw.copy()"
   ]
  },
  {
   "cell_type": "markdown",
   "id": "fc6955da",
   "metadata": {},
   "source": [
    "## 2.1 Rename Columns "
   ]
  },
  {
   "cell_type": "code",
   "execution_count": 9,
   "id": "c7125ec5",
   "metadata": {
    "ExecuteTime": {
     "end_time": "2023-03-31T17:13:13.692675Z",
     "start_time": "2023-03-31T17:13:13.679672Z"
    }
   },
   "outputs": [],
   "source": [
    "df2 = df2.rename(columns = {'vintage':'days_associated'})"
   ]
  },
  {
   "cell_type": "markdown",
   "id": "15b99b04",
   "metadata": {},
   "source": [
    "## 2.2 Data Dimensions "
   ]
  },
  {
   "cell_type": "code",
   "execution_count": 10,
   "id": "4d745142",
   "metadata": {
    "ExecuteTime": {
     "end_time": "2023-03-31T17:13:13.707678Z",
     "start_time": "2023-03-31T17:13:13.693676Z"
    }
   },
   "outputs": [
    {
     "name": "stdout",
     "output_type": "stream",
     "text": [
      "Linhas: 381109\n",
      "Colunas: 12\n"
     ]
    }
   ],
   "source": [
    "print(f'Linhas: {df2.shape[0]}')\n",
    "print(f'Colunas: {df2.shape[1]}')"
   ]
  },
  {
   "cell_type": "markdown",
   "id": "48b6fcf4",
   "metadata": {},
   "source": [
    "## 2.3 Data Types"
   ]
  },
  {
   "cell_type": "code",
   "execution_count": 11,
   "id": "45c82ff2",
   "metadata": {
    "ExecuteTime": {
     "end_time": "2023-03-31T17:13:13.723682Z",
     "start_time": "2023-03-31T17:13:13.708679Z"
    }
   },
   "outputs": [
    {
     "data": {
      "text/plain": [
       "id                        int64\n",
       "gender                   object\n",
       "age                       int64\n",
       "region_code             float64\n",
       "policy_sales_channel    float64\n",
       "driving_license           int64\n",
       "vehicle_age              object\n",
       "vehicle_damage           object\n",
       "previously_insured        int64\n",
       "annual_premium          float64\n",
       "days_associated           int64\n",
       "response                  int64\n",
       "dtype: object"
      ]
     },
     "execution_count": 11,
     "metadata": {},
     "output_type": "execute_result"
    }
   ],
   "source": [
    "df2.dtypes"
   ]
  },
  {
   "cell_type": "markdown",
   "id": "4847f747",
   "metadata": {},
   "source": [
    "## 2.4 Check NA"
   ]
  },
  {
   "cell_type": "code",
   "execution_count": 12,
   "id": "1dfbb486",
   "metadata": {
    "ExecuteTime": {
     "end_time": "2023-03-31T17:13:13.819703Z",
     "start_time": "2023-03-31T17:13:13.724683Z"
    }
   },
   "outputs": [
    {
     "data": {
      "text/plain": [
       "id                      0\n",
       "gender                  0\n",
       "age                     0\n",
       "region_code             0\n",
       "policy_sales_channel    0\n",
       "driving_license         0\n",
       "vehicle_age             0\n",
       "vehicle_damage          0\n",
       "previously_insured      0\n",
       "annual_premium          0\n",
       "days_associated         0\n",
       "response                0\n",
       "dtype: int64"
      ]
     },
     "execution_count": 12,
     "metadata": {},
     "output_type": "execute_result"
    }
   ],
   "source": [
    "df2.isna().sum()"
   ]
  },
  {
   "cell_type": "markdown",
   "id": "8ba53ce4",
   "metadata": {},
   "source": [
    "## 2.5 Fillout NA"
   ]
  },
  {
   "cell_type": "code",
   "execution_count": 13,
   "id": "eebe8350",
   "metadata": {
    "ExecuteTime": {
     "end_time": "2023-03-31T17:13:13.834707Z",
     "start_time": "2023-03-31T17:13:13.820704Z"
    }
   },
   "outputs": [],
   "source": [
    "# Não há nulos no dataset"
   ]
  },
  {
   "cell_type": "markdown",
   "id": "67313a66",
   "metadata": {},
   "source": [
    "## 2.6 Change types"
   ]
  },
  {
   "cell_type": "code",
   "execution_count": 14,
   "id": "84b899f5",
   "metadata": {
    "ExecuteTime": {
     "end_time": "2023-03-31T17:13:13.866714Z",
     "start_time": "2023-03-31T17:13:13.835707Z"
    }
   },
   "outputs": [],
   "source": [
    "# to object\n",
    "df2['id'] = df2['id'].astype('object')\n",
    "\n",
    "# to int\n",
    "df2[['policy_sales_channel','region_code']] = df2[['policy_sales_channel','region_code']].astype('int64')"
   ]
  },
  {
   "cell_type": "markdown",
   "id": "3eaa2578",
   "metadata": {},
   "source": [
    "## 2.7 Descriptive Statistical"
   ]
  },
  {
   "cell_type": "code",
   "execution_count": 15,
   "id": "96855d6d",
   "metadata": {
    "ExecuteTime": {
     "end_time": "2023-03-31T17:13:14.327914Z",
     "start_time": "2023-03-31T17:13:13.867715Z"
    }
   },
   "outputs": [
    {
     "data": {
      "text/html": [
       "<div>\n",
       "<style scoped>\n",
       "    .dataframe tbody tr th:only-of-type {\n",
       "        vertical-align: middle;\n",
       "    }\n",
       "\n",
       "    .dataframe tbody tr th {\n",
       "        vertical-align: top;\n",
       "    }\n",
       "\n",
       "    .dataframe thead th {\n",
       "        text-align: right;\n",
       "    }\n",
       "</style>\n",
       "<table border=\"1\" class=\"dataframe\">\n",
       "  <thead>\n",
       "    <tr style=\"text-align: right;\">\n",
       "      <th></th>\n",
       "      <th>attributes</th>\n",
       "      <th>min</th>\n",
       "      <th>max</th>\n",
       "      <th>range</th>\n",
       "      <th>mean</th>\n",
       "      <th>median</th>\n",
       "      <th>std</th>\n",
       "      <th>skew</th>\n",
       "      <th>kurtosis</th>\n",
       "    </tr>\n",
       "  </thead>\n",
       "  <tbody>\n",
       "    <tr>\n",
       "      <th>0</th>\n",
       "      <td>age</td>\n",
       "      <td>20.0</td>\n",
       "      <td>85.0</td>\n",
       "      <td>65.0</td>\n",
       "      <td>38.822584</td>\n",
       "      <td>36.0</td>\n",
       "      <td>15.511591</td>\n",
       "      <td>0.672539</td>\n",
       "      <td>-0.565655</td>\n",
       "    </tr>\n",
       "    <tr>\n",
       "      <th>1</th>\n",
       "      <td>region_code</td>\n",
       "      <td>0.0</td>\n",
       "      <td>52.0</td>\n",
       "      <td>52.0</td>\n",
       "      <td>26.388807</td>\n",
       "      <td>28.0</td>\n",
       "      <td>13.229871</td>\n",
       "      <td>-0.115266</td>\n",
       "      <td>-0.867857</td>\n",
       "    </tr>\n",
       "    <tr>\n",
       "      <th>2</th>\n",
       "      <td>policy_sales_channel</td>\n",
       "      <td>1.0</td>\n",
       "      <td>163.0</td>\n",
       "      <td>162.0</td>\n",
       "      <td>112.034295</td>\n",
       "      <td>133.0</td>\n",
       "      <td>54.203924</td>\n",
       "      <td>-0.900008</td>\n",
       "      <td>-0.970810</td>\n",
       "    </tr>\n",
       "    <tr>\n",
       "      <th>3</th>\n",
       "      <td>driving_license</td>\n",
       "      <td>0.0</td>\n",
       "      <td>1.0</td>\n",
       "      <td>1.0</td>\n",
       "      <td>0.997869</td>\n",
       "      <td>1.0</td>\n",
       "      <td>0.046109</td>\n",
       "      <td>-21.595182</td>\n",
       "      <td>464.354302</td>\n",
       "    </tr>\n",
       "    <tr>\n",
       "      <th>4</th>\n",
       "      <td>previously_insured</td>\n",
       "      <td>0.0</td>\n",
       "      <td>1.0</td>\n",
       "      <td>1.0</td>\n",
       "      <td>0.458210</td>\n",
       "      <td>0.0</td>\n",
       "      <td>0.498251</td>\n",
       "      <td>0.167747</td>\n",
       "      <td>-1.971871</td>\n",
       "    </tr>\n",
       "    <tr>\n",
       "      <th>5</th>\n",
       "      <td>annual_premium</td>\n",
       "      <td>2630.0</td>\n",
       "      <td>540165.0</td>\n",
       "      <td>537535.0</td>\n",
       "      <td>30564.389581</td>\n",
       "      <td>31669.0</td>\n",
       "      <td>17213.132474</td>\n",
       "      <td>1.766087</td>\n",
       "      <td>34.004569</td>\n",
       "    </tr>\n",
       "    <tr>\n",
       "      <th>6</th>\n",
       "      <td>days_associated</td>\n",
       "      <td>10.0</td>\n",
       "      <td>299.0</td>\n",
       "      <td>289.0</td>\n",
       "      <td>154.347397</td>\n",
       "      <td>154.0</td>\n",
       "      <td>83.671194</td>\n",
       "      <td>0.003030</td>\n",
       "      <td>-1.200688</td>\n",
       "    </tr>\n",
       "    <tr>\n",
       "      <th>7</th>\n",
       "      <td>response</td>\n",
       "      <td>0.0</td>\n",
       "      <td>1.0</td>\n",
       "      <td>1.0</td>\n",
       "      <td>0.122563</td>\n",
       "      <td>0.0</td>\n",
       "      <td>0.327935</td>\n",
       "      <td>2.301906</td>\n",
       "      <td>3.298788</td>\n",
       "    </tr>\n",
       "  </tbody>\n",
       "</table>\n",
       "</div>"
      ],
      "text/plain": [
       "             attributes     min       max     range          mean   median           std       skew    kurtosis\n",
       "0                   age    20.0      85.0      65.0     38.822584     36.0     15.511591   0.672539   -0.565655\n",
       "1           region_code     0.0      52.0      52.0     26.388807     28.0     13.229871  -0.115266   -0.867857\n",
       "2  policy_sales_channel     1.0     163.0     162.0    112.034295    133.0     54.203924  -0.900008   -0.970810\n",
       "3       driving_license     0.0       1.0       1.0      0.997869      1.0      0.046109 -21.595182  464.354302\n",
       "4    previously_insured     0.0       1.0       1.0      0.458210      0.0      0.498251   0.167747   -1.971871\n",
       "5        annual_premium  2630.0  540165.0  537535.0  30564.389581  31669.0  17213.132474   1.766087   34.004569\n",
       "6       days_associated    10.0     299.0     289.0    154.347397    154.0     83.671194   0.003030   -1.200688\n",
       "7              response     0.0       1.0       1.0      0.122563      0.0      0.327935   2.301906    3.298788"
      ]
     },
     "execution_count": 15,
     "metadata": {},
     "output_type": "execute_result"
    }
   ],
   "source": [
    "num_attributes = df2.select_dtypes( include= ['int64','float64'] )\n",
    "cat_attributes = df2.select_dtypes( exclude= ['int64','float64', 'datetime64[ns]'] )\n",
    "\n",
    "# Central Tendency - Mean, Median\n",
    "\n",
    "ct1 = pd.DataFrame( num_attributes.apply(np.mean) ).T\n",
    "ct2 = pd.DataFrame( num_attributes.apply(np.median) ).T\n",
    "\n",
    "# Dispersion - std, min, max, range, skew, kurtosis\n",
    "d1 = pd.DataFrame( num_attributes.apply( np.std ) ).T\n",
    "d2 = pd.DataFrame( num_attributes.apply( min ) ).T\n",
    "d3 = pd.DataFrame( num_attributes.apply( max ) ).T\n",
    "d4 = pd.DataFrame( num_attributes.apply(lambda x: x.max() - x.min()  ) ).T\n",
    "d5 = pd.DataFrame( num_attributes.apply(lambda x: x.skew()  ) ).T\n",
    "d6 = pd.DataFrame( num_attributes.apply(lambda x: x.kurtosis()  ) ).T\n",
    "\n",
    "# concatenate\n",
    "\n",
    "m = pd.concat( [d2, d3, d4, ct1, ct2, d1, d5, d6] ).T.reset_index()\n",
    "m.columns = ['attributes','min','max','range','mean','median','std','skew','kurtosis']\n",
    "m"
   ]
  },
  {
   "cell_type": "markdown",
   "id": "0d3e993c",
   "metadata": {},
   "source": [
    "# 3.0 Feature Engineering"
   ]
  },
  {
   "cell_type": "code",
   "execution_count": 16,
   "id": "21cc883a",
   "metadata": {
    "ExecuteTime": {
     "end_time": "2023-03-31T17:13:14.359921Z",
     "start_time": "2023-03-31T17:13:14.328914Z"
    }
   },
   "outputs": [],
   "source": [
    "df3 = df2.copy()"
   ]
  },
  {
   "cell_type": "code",
   "execution_count": 17,
   "id": "5e9fb99c",
   "metadata": {
    "ExecuteTime": {
     "end_time": "2023-03-31T17:13:14.375925Z",
     "start_time": "2023-03-31T17:13:14.360921Z"
    }
   },
   "outputs": [
    {
     "data": {
      "text/html": [
       "<div>\n",
       "<style scoped>\n",
       "    .dataframe tbody tr th:only-of-type {\n",
       "        vertical-align: middle;\n",
       "    }\n",
       "\n",
       "    .dataframe tbody tr th {\n",
       "        vertical-align: top;\n",
       "    }\n",
       "\n",
       "    .dataframe thead th {\n",
       "        text-align: right;\n",
       "    }\n",
       "</style>\n",
       "<table border=\"1\" class=\"dataframe\">\n",
       "  <thead>\n",
       "    <tr style=\"text-align: right;\">\n",
       "      <th></th>\n",
       "      <th>id</th>\n",
       "      <th>gender</th>\n",
       "      <th>age</th>\n",
       "      <th>region_code</th>\n",
       "      <th>policy_sales_channel</th>\n",
       "      <th>driving_license</th>\n",
       "      <th>vehicle_age</th>\n",
       "      <th>vehicle_damage</th>\n",
       "      <th>previously_insured</th>\n",
       "      <th>annual_premium</th>\n",
       "      <th>days_associated</th>\n",
       "      <th>response</th>\n",
       "    </tr>\n",
       "  </thead>\n",
       "  <tbody>\n",
       "    <tr>\n",
       "      <th>266810</th>\n",
       "      <td>266811</td>\n",
       "      <td>Female</td>\n",
       "      <td>25</td>\n",
       "      <td>15</td>\n",
       "      <td>152</td>\n",
       "      <td>1</td>\n",
       "      <td>&lt; 1 Year</td>\n",
       "      <td>No</td>\n",
       "      <td>1</td>\n",
       "      <td>31612.0</td>\n",
       "      <td>292</td>\n",
       "      <td>0</td>\n",
       "    </tr>\n",
       "    <tr>\n",
       "      <th>312737</th>\n",
       "      <td>312738</td>\n",
       "      <td>Male</td>\n",
       "      <td>39</td>\n",
       "      <td>28</td>\n",
       "      <td>26</td>\n",
       "      <td>1</td>\n",
       "      <td>1-2 Year</td>\n",
       "      <td>No</td>\n",
       "      <td>1</td>\n",
       "      <td>37736.0</td>\n",
       "      <td>258</td>\n",
       "      <td>0</td>\n",
       "    </tr>\n",
       "    <tr>\n",
       "      <th>66130</th>\n",
       "      <td>66131</td>\n",
       "      <td>Male</td>\n",
       "      <td>28</td>\n",
       "      <td>41</td>\n",
       "      <td>152</td>\n",
       "      <td>1</td>\n",
       "      <td>&lt; 1 Year</td>\n",
       "      <td>No</td>\n",
       "      <td>1</td>\n",
       "      <td>48416.0</td>\n",
       "      <td>218</td>\n",
       "      <td>0</td>\n",
       "    </tr>\n",
       "    <tr>\n",
       "      <th>165830</th>\n",
       "      <td>165831</td>\n",
       "      <td>Male</td>\n",
       "      <td>21</td>\n",
       "      <td>17</td>\n",
       "      <td>160</td>\n",
       "      <td>1</td>\n",
       "      <td>&lt; 1 Year</td>\n",
       "      <td>No</td>\n",
       "      <td>1</td>\n",
       "      <td>28666.0</td>\n",
       "      <td>261</td>\n",
       "      <td>0</td>\n",
       "    </tr>\n",
       "    <tr>\n",
       "      <th>24144</th>\n",
       "      <td>24145</td>\n",
       "      <td>Male</td>\n",
       "      <td>22</td>\n",
       "      <td>40</td>\n",
       "      <td>160</td>\n",
       "      <td>1</td>\n",
       "      <td>&lt; 1 Year</td>\n",
       "      <td>No</td>\n",
       "      <td>1</td>\n",
       "      <td>2630.0</td>\n",
       "      <td>187</td>\n",
       "      <td>0</td>\n",
       "    </tr>\n",
       "    <tr>\n",
       "      <th>101392</th>\n",
       "      <td>101393</td>\n",
       "      <td>Male</td>\n",
       "      <td>60</td>\n",
       "      <td>28</td>\n",
       "      <td>152</td>\n",
       "      <td>1</td>\n",
       "      <td>1-2 Year</td>\n",
       "      <td>Yes</td>\n",
       "      <td>0</td>\n",
       "      <td>44747.0</td>\n",
       "      <td>17</td>\n",
       "      <td>0</td>\n",
       "    </tr>\n",
       "    <tr>\n",
       "      <th>226990</th>\n",
       "      <td>226991</td>\n",
       "      <td>Male</td>\n",
       "      <td>22</td>\n",
       "      <td>37</td>\n",
       "      <td>26</td>\n",
       "      <td>1</td>\n",
       "      <td>&lt; 1 Year</td>\n",
       "      <td>No</td>\n",
       "      <td>1</td>\n",
       "      <td>2630.0</td>\n",
       "      <td>81</td>\n",
       "      <td>0</td>\n",
       "    </tr>\n",
       "    <tr>\n",
       "      <th>277068</th>\n",
       "      <td>277069</td>\n",
       "      <td>Male</td>\n",
       "      <td>26</td>\n",
       "      <td>45</td>\n",
       "      <td>124</td>\n",
       "      <td>1</td>\n",
       "      <td>&lt; 1 Year</td>\n",
       "      <td>Yes</td>\n",
       "      <td>0</td>\n",
       "      <td>27978.0</td>\n",
       "      <td>78</td>\n",
       "      <td>0</td>\n",
       "    </tr>\n",
       "    <tr>\n",
       "      <th>369503</th>\n",
       "      <td>369504</td>\n",
       "      <td>Male</td>\n",
       "      <td>34</td>\n",
       "      <td>28</td>\n",
       "      <td>124</td>\n",
       "      <td>1</td>\n",
       "      <td>1-2 Year</td>\n",
       "      <td>Yes</td>\n",
       "      <td>0</td>\n",
       "      <td>45569.0</td>\n",
       "      <td>222</td>\n",
       "      <td>0</td>\n",
       "    </tr>\n",
       "    <tr>\n",
       "      <th>294380</th>\n",
       "      <td>294381</td>\n",
       "      <td>Female</td>\n",
       "      <td>25</td>\n",
       "      <td>28</td>\n",
       "      <td>152</td>\n",
       "      <td>1</td>\n",
       "      <td>&lt; 1 Year</td>\n",
       "      <td>No</td>\n",
       "      <td>1</td>\n",
       "      <td>38285.0</td>\n",
       "      <td>40</td>\n",
       "      <td>0</td>\n",
       "    </tr>\n",
       "    <tr>\n",
       "      <th>330920</th>\n",
       "      <td>330921</td>\n",
       "      <td>Female</td>\n",
       "      <td>74</td>\n",
       "      <td>17</td>\n",
       "      <td>26</td>\n",
       "      <td>1</td>\n",
       "      <td>1-2 Year</td>\n",
       "      <td>Yes</td>\n",
       "      <td>0</td>\n",
       "      <td>2630.0</td>\n",
       "      <td>100</td>\n",
       "      <td>0</td>\n",
       "    </tr>\n",
       "    <tr>\n",
       "      <th>130270</th>\n",
       "      <td>130271</td>\n",
       "      <td>Male</td>\n",
       "      <td>45</td>\n",
       "      <td>29</td>\n",
       "      <td>26</td>\n",
       "      <td>1</td>\n",
       "      <td>&gt; 2 Years</td>\n",
       "      <td>Yes</td>\n",
       "      <td>0</td>\n",
       "      <td>29740.0</td>\n",
       "      <td>103</td>\n",
       "      <td>1</td>\n",
       "    </tr>\n",
       "    <tr>\n",
       "      <th>94873</th>\n",
       "      <td>94874</td>\n",
       "      <td>Male</td>\n",
       "      <td>28</td>\n",
       "      <td>39</td>\n",
       "      <td>154</td>\n",
       "      <td>1</td>\n",
       "      <td>1-2 Year</td>\n",
       "      <td>Yes</td>\n",
       "      <td>0</td>\n",
       "      <td>2630.0</td>\n",
       "      <td>143</td>\n",
       "      <td>1</td>\n",
       "    </tr>\n",
       "    <tr>\n",
       "      <th>88360</th>\n",
       "      <td>88361</td>\n",
       "      <td>Female</td>\n",
       "      <td>23</td>\n",
       "      <td>37</td>\n",
       "      <td>152</td>\n",
       "      <td>1</td>\n",
       "      <td>&lt; 1 Year</td>\n",
       "      <td>No</td>\n",
       "      <td>0</td>\n",
       "      <td>34045.0</td>\n",
       "      <td>32</td>\n",
       "      <td>0</td>\n",
       "    </tr>\n",
       "    <tr>\n",
       "      <th>245109</th>\n",
       "      <td>245110</td>\n",
       "      <td>Female</td>\n",
       "      <td>26</td>\n",
       "      <td>3</td>\n",
       "      <td>156</td>\n",
       "      <td>1</td>\n",
       "      <td>1-2 Year</td>\n",
       "      <td>Yes</td>\n",
       "      <td>1</td>\n",
       "      <td>24678.0</td>\n",
       "      <td>225</td>\n",
       "      <td>0</td>\n",
       "    </tr>\n",
       "  </tbody>\n",
       "</table>\n",
       "</div>"
      ],
      "text/plain": [
       "            id  gender  age  region_code  policy_sales_channel  driving_license vehicle_age vehicle_damage  previously_insured  annual_premium  days_associated  response\n",
       "266810  266811  Female   25           15                   152                1    < 1 Year             No                   1         31612.0              292         0\n",
       "312737  312738    Male   39           28                    26                1    1-2 Year             No                   1         37736.0              258         0\n",
       "66130    66131    Male   28           41                   152                1    < 1 Year             No                   1         48416.0              218         0\n",
       "165830  165831    Male   21           17                   160                1    < 1 Year             No                   1         28666.0              261         0\n",
       "24144    24145    Male   22           40                   160                1    < 1 Year             No                   1          2630.0              187         0\n",
       "101392  101393    Male   60           28                   152                1    1-2 Year            Yes                   0         44747.0               17         0\n",
       "226990  226991    Male   22           37                    26                1    < 1 Year             No                   1          2630.0               81         0\n",
       "277068  277069    Male   26           45                   124                1    < 1 Year            Yes                   0         27978.0               78         0\n",
       "369503  369504    Male   34           28                   124                1    1-2 Year            Yes                   0         45569.0              222         0\n",
       "294380  294381  Female   25           28                   152                1    < 1 Year             No                   1         38285.0               40         0\n",
       "330920  330921  Female   74           17                    26                1    1-2 Year            Yes                   0          2630.0              100         0\n",
       "130270  130271    Male   45           29                    26                1   > 2 Years            Yes                   0         29740.0              103         1\n",
       "94873    94874    Male   28           39                   154                1    1-2 Year            Yes                   0          2630.0              143         1\n",
       "88360    88361  Female   23           37                   152                1    < 1 Year             No                   0         34045.0               32         0\n",
       "245109  245110  Female   26            3                   156                1    1-2 Year            Yes                   1         24678.0              225         0"
      ]
     },
     "execution_count": 17,
     "metadata": {},
     "output_type": "execute_result"
    }
   ],
   "source": [
    "df3.sample(15)"
   ]
  },
  {
   "cell_type": "markdown",
   "id": "d77f117f",
   "metadata": {},
   "source": [
    "## 3.1 Mapa Mental de Hipóteses"
   ]
  },
  {
   "cell_type": "markdown",
   "id": "1bdcbb3e",
   "metadata": {},
   "source": [
    "## 3.2 Feature Engineering\n"
   ]
  },
  {
   "cell_type": "code",
   "execution_count": 18,
   "id": "c9bc97f3",
   "metadata": {
    "ExecuteTime": {
     "end_time": "2023-03-31T17:13:14.406932Z",
     "start_time": "2023-03-31T17:13:14.376925Z"
    }
   },
   "outputs": [],
   "source": [
    "# changing the categories in 'vehicle_age' column\n",
    "vehicle_age_dict = {'< 1 Year':'below_1_year', '1-2 Year':'between_1_2_years', '> 2 Years':'more_than_2_years'}\n",
    "df3['vehicle_age'] = df3['vehicle_age'].map(vehicle_age_dict)"
   ]
  },
  {
   "cell_type": "markdown",
   "id": "fd77f4c6",
   "metadata": {
    "heading_collapsed": true
   },
   "source": [
    "# 4.0 Filtragem de variáveis"
   ]
  },
  {
   "cell_type": "code",
   "execution_count": 19,
   "id": "b6f0e35e",
   "metadata": {
    "ExecuteTime": {
     "end_time": "2023-03-31T17:13:14.421935Z",
     "start_time": "2023-03-31T17:13:14.407932Z"
    },
    "hidden": true
   },
   "outputs": [],
   "source": [
    "# Rever a explicação do Meigarom sobre essa parte"
   ]
  },
  {
   "cell_type": "code",
   "execution_count": 20,
   "id": "c6694e7f",
   "metadata": {
    "ExecuteTime": {
     "end_time": "2023-03-31T17:13:14.452942Z",
     "start_time": "2023-03-31T17:13:14.422935Z"
    },
    "hidden": true
   },
   "outputs": [],
   "source": [
    "df4 = df3.copy()"
   ]
  },
  {
   "cell_type": "markdown",
   "id": "95f14b49",
   "metadata": {
    "heading_collapsed": true
   },
   "source": [
    "# 5.0 EDA - Exploratory Data Analysis"
   ]
  },
  {
   "cell_type": "markdown",
   "id": "e1048f90",
   "metadata": {
    "hidden": true
   },
   "source": [
    "- Hipóteses sao mais propensas a adquirir o seguro saude:\n",
    "- H1 - Mulheres\n",
    "- H2 - Pessoas mais velhas \n",
    "- H3 - Pessoas com carros mais velhos \n",
    "- H4 - Pessoas com carros danificados \n",
    "- H5 - Pessoas previously_insured \n",
    "- H6 - Pessoas com maior 'annual_premium'\n",
    "- H7 - Pessoas a mais tempos associadas"
   ]
  },
  {
   "cell_type": "code",
   "execution_count": 21,
   "id": "4889fd4e",
   "metadata": {
    "ExecuteTime": {
     "end_time": "2023-03-31T17:13:14.467946Z",
     "start_time": "2023-03-31T17:13:14.453942Z"
    },
    "hidden": true
   },
   "outputs": [],
   "source": [
    "df5 = df4.copy()"
   ]
  },
  {
   "cell_type": "markdown",
   "id": "6da01e2d",
   "metadata": {
    "hidden": true
   },
   "source": [
    "## 5.1 Análise Univariada"
   ]
  },
  {
   "cell_type": "code",
   "execution_count": 22,
   "id": "ddeac382",
   "metadata": {
    "ExecuteTime": {
     "end_time": "2023-03-31T17:13:14.795812Z",
     "start_time": "2023-03-31T17:13:14.468946Z"
    },
    "hidden": true
   },
   "outputs": [
    {
     "ename": "NameError",
     "evalue": "name 'filter0' is not defined",
     "output_type": "error",
     "traceback": [
      "\u001b[1;31m---------------------------------------------------------------------------\u001b[0m",
      "\u001b[1;31mNameError\u001b[0m                                 Traceback (most recent call last)",
      "Cell \u001b[1;32mIn[22], line 1\u001b[0m\n\u001b[1;32m----> 1\u001b[0m sns\u001b[38;5;241m.\u001b[39mkdeplot( df5\u001b[38;5;241m.\u001b[39mloc[\u001b[43mfilter0\u001b[49m, \u001b[38;5;124m'\u001b[39m\u001b[38;5;124mage\u001b[39m\u001b[38;5;124m'\u001b[39m], label\u001b[38;5;241m=\u001b[39m\u001b[38;5;124m'\u001b[39m\u001b[38;5;124mnegative\u001b[39m\u001b[38;5;124m'\u001b[39m, fill\u001b[38;5;241m=\u001b[39m\u001b[38;5;28;01mTrue\u001b[39;00m )\n",
      "\u001b[1;31mNameError\u001b[0m: name 'filter0' is not defined"
     ]
    }
   ],
   "source": [
    "sns.kdeplot( df5.loc[filter0, 'age'], label='negative', fill=True )"
   ]
  },
  {
   "cell_type": "code",
   "execution_count": null,
   "id": "76d34cb5",
   "metadata": {
    "ExecuteTime": {
     "end_time": "2023-03-31T17:13:14.888644Z",
     "start_time": "2023-03-31T17:13:14.888644Z"
    },
    "hidden": true
   },
   "outputs": [],
   "source": [
    "num_attributes.hist(bins=25, figsize=(12,16));"
   ]
  },
  {
   "cell_type": "markdown",
   "id": "dcd94203",
   "metadata": {
    "hidden": true
   },
   "source": [
    "## 5.2 Análise Bivariada"
   ]
  },
  {
   "cell_type": "markdown",
   "id": "17a7addc",
   "metadata": {
    "hidden": true
   },
   "source": [
    "### 5.1 - H1 - Mulheres sao mais propensas a adquirir o seguro saude"
   ]
  },
  {
   "cell_type": "markdown",
   "id": "39a90320",
   "metadata": {
    "hidden": true
   },
   "source": [
    "Falso. Homens são mais propensos que mulheres"
   ]
  },
  {
   "cell_type": "code",
   "execution_count": null,
   "id": "1cebdab6",
   "metadata": {
    "ExecuteTime": {
     "end_time": "2023-03-31T17:13:14.889644Z",
     "start_time": "2023-03-31T17:13:14.889644Z"
    },
    "hidden": true
   },
   "outputs": [],
   "source": [
    "aux = df5.loc[:, ['gender','response']].groupby(by=['gender']).agg({'gender':'count','response':'sum'})\n",
    "aux.columns = ['total','positive']\n",
    "aux = aux.reset_index()\n",
    "aux['percentual'] = aux['positive']/aux['total']\n",
    "aux"
   ]
  },
  {
   "cell_type": "code",
   "execution_count": null,
   "id": "7909bdcc",
   "metadata": {
    "ExecuteTime": {
     "end_time": "2023-03-31T17:13:14.890644Z",
     "start_time": "2023-03-31T17:13:14.890644Z"
    },
    "hidden": true
   },
   "outputs": [],
   "source": [
    "sns.barplot( x='gender',y='percentual', data = aux);"
   ]
  },
  {
   "cell_type": "markdown",
   "id": "84dbdecc",
   "metadata": {
    "hidden": true
   },
   "source": [
    "### 5.2 - H2 - Pessoas mais velhas sao mais propensas a adquirir o seguro saude"
   ]
  },
  {
   "cell_type": "markdown",
   "id": "fdf9a9bf",
   "metadata": {
    "ExecuteTime": {
     "end_time": "2023-03-31T02:37:39.952398Z",
     "start_time": "2023-03-31T02:37:39.939395Z"
    },
    "hidden": true
   },
   "source": [
    "Falso. Pessoas de idade intermediaria são mais propensas a adquirir o seguro saude"
   ]
  },
  {
   "cell_type": "code",
   "execution_count": null,
   "id": "00b77740",
   "metadata": {
    "ExecuteTime": {
     "end_time": "2023-03-31T17:13:14.891644Z",
     "start_time": "2023-03-31T17:13:14.891644Z"
    },
    "hidden": true
   },
   "outputs": [],
   "source": [
    "plt.subplot(1,1,1)\n",
    "filter0 = (df5['response'] == 0)\n",
    "filter1 = (df5['response'] == 1)\n",
    "\n",
    "sns.kdeplot( df5.loc[filter0, 'age'], label='negative', fill=True )\n",
    "sns.kdeplot( df5.loc[filter1, 'age'], label='positive', fill=True )\n",
    "plt.legend()\n",
    "plt.title('Por idade');"
   ]
  },
  {
   "cell_type": "markdown",
   "id": "a6563bd5",
   "metadata": {
    "hidden": true
   },
   "source": [
    "### 5.3 - H3 - Pessoas com carros mais velhos sao mais propensas a adquirir o seguro saude"
   ]
  },
  {
   "cell_type": "markdown",
   "id": "1245fbfa",
   "metadata": {
    "hidden": true
   },
   "source": [
    "Verdadeiro. Quanto mais velho o carro, mais propenso de adquirir o seguro saude."
   ]
  },
  {
   "cell_type": "code",
   "execution_count": null,
   "id": "973db0cc",
   "metadata": {
    "ExecuteTime": {
     "end_time": "2023-03-31T17:13:14.892644Z",
     "start_time": "2023-03-31T17:13:14.892644Z"
    },
    "hidden": true
   },
   "outputs": [],
   "source": [
    "aux = df5.loc[:, ['vehicle_age','response']].groupby(by=['vehicle_age']).agg({'vehicle_age':'count','response':'sum'})\n",
    "aux.columns = ['total','positive']\n",
    "aux = aux.reset_index()\n",
    "aux['percentual'] = aux['positive']/aux['total']\n",
    "\n",
    "sns.barplot(data=aux, x='vehicle_age', y='percentual');"
   ]
  },
  {
   "cell_type": "markdown",
   "id": "d3eb5155",
   "metadata": {
    "hidden": true
   },
   "source": [
    "### 5.4 - H4 - Pessoas com carros danificados sao mais propensas a adquirir o seguro saude"
   ]
  },
  {
   "cell_type": "markdown",
   "id": "86269ed2",
   "metadata": {
    "hidden": true
   },
   "source": [
    "Verdadeiro. Pessoas com carros danificados são mais propensas a adquirir o seguro saúde"
   ]
  },
  {
   "cell_type": "code",
   "execution_count": null,
   "id": "824b3ecf",
   "metadata": {
    "ExecuteTime": {
     "end_time": "2023-03-31T17:13:14.893538Z",
     "start_time": "2023-03-31T17:13:14.893538Z"
    },
    "hidden": true
   },
   "outputs": [],
   "source": [
    "aux = df5.loc[:, ['vehicle_damage','response']].groupby(by=['vehicle_damage']).agg({'vehicle_damage':'count','response':'sum'})\n",
    "aux.columns = ['total','positive']\n",
    "aux = aux.reset_index()\n",
    "aux['percentual'] = aux['positive']/aux['total']\n",
    "\n",
    "sns.barplot(data=aux, x='vehicle_damage', y='percentual');"
   ]
  },
  {
   "cell_type": "code",
   "execution_count": null,
   "id": "a6f78965",
   "metadata": {
    "ExecuteTime": {
     "end_time": "2023-03-31T17:13:14.894533Z",
     "start_time": "2023-03-31T17:13:14.894533Z"
    },
    "hidden": true
   },
   "outputs": [],
   "source": [
    "df5.head()"
   ]
  },
  {
   "cell_type": "markdown",
   "id": "73ffd935",
   "metadata": {
    "hidden": true
   },
   "source": [
    "### 5.5 - H5 - Pessoas previamente asseguradas sao mais propensas a adquirir o seguro saude"
   ]
  },
  {
   "cell_type": "markdown",
   "id": "624ba00d",
   "metadata": {
    "hidden": true
   },
   "source": [
    "Falso. Pessoas nunca asseguradas são as mais propensas a adquirir o seguro saude"
   ]
  },
  {
   "cell_type": "code",
   "execution_count": null,
   "id": "6d739ab0",
   "metadata": {
    "ExecuteTime": {
     "end_time": "2023-03-31T17:13:14.895533Z",
     "start_time": "2023-03-31T17:13:14.895533Z"
    },
    "hidden": true
   },
   "outputs": [],
   "source": [
    "aux = df5.loc[:, ['previously_insured','response']].groupby(by=['previously_insured']).agg({'previously_insured':'count','response':'sum'})\n",
    "aux.columns = ['total','positive']\n",
    "aux = aux.reset_index()\n",
    "aux['percentual'] = aux['positive']/aux['total']\n",
    "\n",
    "sns.barplot(data=aux, x='previously_insured', y='percentual');"
   ]
  },
  {
   "cell_type": "markdown",
   "id": "1570f73f",
   "metadata": {
    "hidden": true
   },
   "source": [
    "### 5.6 - H6 - Pessoas que ganham mais sao mais propensas a adquirir o seguro saude"
   ]
  },
  {
   "cell_type": "markdown",
   "id": "7af7345a",
   "metadata": {
    "ExecuteTime": {
     "end_time": "2023-03-31T03:04:05.813673Z",
     "start_time": "2023-03-31T03:04:05.807671Z"
    },
    "hidden": true
   },
   "source": [
    "Falso. Cancela da mesma maneira"
   ]
  },
  {
   "cell_type": "code",
   "execution_count": null,
   "id": "9b2a53c3",
   "metadata": {
    "ExecuteTime": {
     "end_time": "2023-03-31T17:13:14.895533Z",
     "start_time": "2023-03-31T17:13:14.895533Z"
    },
    "hidden": true
   },
   "outputs": [],
   "source": [
    "plt.subplot(1,1,1)\n",
    "filter0 = (df5['response'] == 0) & (df5['annual_premium'] < 100000)\n",
    "filter1 = (df5['response'] == 1) & (df5['annual_premium'] < 100000)\n",
    "\n",
    "sns.kdeplot( df5.loc[filter0, 'annual_premium'], label='negative', fill=True )\n",
    "sns.kdeplot( df5.loc[filter1, 'annual_premium'], label='positive', fill=True )\n",
    "plt.legend()\n",
    "plt.title('Por annual premium');"
   ]
  },
  {
   "cell_type": "markdown",
   "id": "b3ab9890",
   "metadata": {
    "hidden": true
   },
   "source": [
    "### 5.7 - H7 Pessoas a mais tempo associadas sao mais propensas a adquirir o seguro saude"
   ]
  },
  {
   "cell_type": "code",
   "execution_count": null,
   "id": "6222e6bf",
   "metadata": {
    "ExecuteTime": {
     "end_time": "2023-03-31T17:13:14.896533Z",
     "start_time": "2023-03-31T17:13:14.896533Z"
    },
    "hidden": true
   },
   "outputs": [],
   "source": [
    "plt.subplot(1,1,1)\n",
    "filter0 = (df5['response'] == 0)\n",
    "filter1 = (df5['response'] == 1)\n",
    "\n",
    "sns.kdeplot( df5.loc[filter0, 'days_associated'], label='negative', fill=True )\n",
    "sns.kdeplot( df5.loc[filter1, 'days_associated'], label='positive', fill=True )\n",
    "plt.legend()\n",
    "plt.title('Por days_associated');"
   ]
  },
  {
   "cell_type": "markdown",
   "id": "66553ad1",
   "metadata": {
    "hidden": true
   },
   "source": [
    "### 5.8 - H8 "
   ]
  },
  {
   "cell_type": "code",
   "execution_count": null,
   "id": "61908b3b",
   "metadata": {
    "ExecuteTime": {
     "end_time": "2023-03-31T17:13:14.897533Z",
     "start_time": "2023-03-31T17:13:14.897533Z"
    },
    "hidden": true
   },
   "outputs": [],
   "source": [
    "subplots_adjust()\n",
    "\n",
    "plt.subplot(2,2,1)\n",
    "sns.kdeplot( df5.loc[ df5['response'] == 0, ['gender', 'age']], x='age', hue='gender', fill=True, )\n",
    "plt.title('Negative Response')\n",
    "\n",
    "plt.subplot(2,2,2)\n",
    "sns.kdeplot( df5.loc[ df5['response'] == 1, ['gender', 'age']], x='age', hue='gender', fill=True, )\n",
    "plt.title('Positive Response')\n",
    "\n",
    "plt.subplot(2,2,3)\n",
    "filter0 = (df5['gender'] == 'Male') & (df5['response'] == 0)\n",
    "filter1 = (df5['gender'] == 'Male') & (df5['response'] == 1)\n",
    "\n",
    "sns.kdeplot( df5.loc[filter0, 'age'], label='negative', fill=True )\n",
    "sns.kdeplot( df5.loc[filter1, 'age'], label='positive', fill=True )\n",
    "plt.legend()\n",
    "plt.title('Male')\n",
    "\n",
    "plt.subplot(2,2,4)\n",
    "filter0 = (df5['gender'] == 'Female') & (df5['response'] == 0)\n",
    "filter1 = (df5['gender'] == 'Female') & (df5['response'] == 1)\n",
    "\n",
    "sns.kdeplot( df5.loc[filter0, 'age'], label='negative', fill=True )\n",
    "sns.kdeplot( df5.loc[filter1, 'age'], label='positive', fill=True )\n",
    "plt.legend()\n",
    "plt.title('Female');"
   ]
  },
  {
   "cell_type": "markdown",
   "id": "19df5f14",
   "metadata": {
    "hidden": true
   },
   "source": [
    "## 5.3 Análise multivariada"
   ]
  },
  {
   "cell_type": "markdown",
   "id": "edf71a8c",
   "metadata": {
    "hidden": true
   },
   "source": [
    "### 5.3.1 Numerical Attributes\n"
   ]
  },
  {
   "cell_type": "code",
   "execution_count": null,
   "id": "d4f23094",
   "metadata": {
    "ExecuteTime": {
     "end_time": "2023-03-31T17:13:14.898534Z",
     "start_time": "2023-03-31T17:13:14.898534Z"
    },
    "hidden": true
   },
   "outputs": [],
   "source": [
    "fig, ax = plt.subplots(figsize=(15, 10))\n",
    "\n",
    "correlation = num_attributes.corr( method='pearson' )\n",
    "sns.heatmap( correlation, annot=True );"
   ]
  },
  {
   "cell_type": "markdown",
   "id": "b2f9acec",
   "metadata": {},
   "source": [
    "# 6.0 Data Preparation"
   ]
  },
  {
   "cell_type": "code",
   "execution_count": 23,
   "id": "2e566c2f",
   "metadata": {
    "ExecuteTime": {
     "end_time": "2023-03-31T17:13:32.822121Z",
     "start_time": "2023-03-31T17:13:32.811118Z"
    }
   },
   "outputs": [],
   "source": [
    "df6 = df5.copy()"
   ]
  },
  {
   "cell_type": "markdown",
   "id": "2dccb401",
   "metadata": {},
   "source": [
    "## 6.2 Transformação"
   ]
  },
  {
   "cell_type": "code",
   "execution_count": 24,
   "id": "df0d49a3",
   "metadata": {
    "ExecuteTime": {
     "end_time": "2023-03-31T17:13:33.821125Z",
     "start_time": "2023-03-31T17:13:33.799118Z"
    }
   },
   "outputs": [
    {
     "data": {
      "text/html": [
       "<div>\n",
       "<style scoped>\n",
       "    .dataframe tbody tr th:only-of-type {\n",
       "        vertical-align: middle;\n",
       "    }\n",
       "\n",
       "    .dataframe tbody tr th {\n",
       "        vertical-align: top;\n",
       "    }\n",
       "\n",
       "    .dataframe thead th {\n",
       "        text-align: right;\n",
       "    }\n",
       "</style>\n",
       "<table border=\"1\" class=\"dataframe\">\n",
       "  <thead>\n",
       "    <tr style=\"text-align: right;\">\n",
       "      <th></th>\n",
       "      <th>id</th>\n",
       "      <th>gender</th>\n",
       "      <th>age</th>\n",
       "      <th>region_code</th>\n",
       "      <th>policy_sales_channel</th>\n",
       "      <th>driving_license</th>\n",
       "      <th>vehicle_age</th>\n",
       "      <th>vehicle_damage</th>\n",
       "      <th>previously_insured</th>\n",
       "      <th>annual_premium</th>\n",
       "      <th>days_associated</th>\n",
       "      <th>response</th>\n",
       "    </tr>\n",
       "  </thead>\n",
       "  <tbody>\n",
       "    <tr>\n",
       "      <th>0</th>\n",
       "      <td>1</td>\n",
       "      <td>Male</td>\n",
       "      <td>44</td>\n",
       "      <td>28</td>\n",
       "      <td>26</td>\n",
       "      <td>1</td>\n",
       "      <td>more_than_2_years</td>\n",
       "      <td>Yes</td>\n",
       "      <td>0</td>\n",
       "      <td>40454.0</td>\n",
       "      <td>217</td>\n",
       "      <td>1</td>\n",
       "    </tr>\n",
       "    <tr>\n",
       "      <th>1</th>\n",
       "      <td>2</td>\n",
       "      <td>Male</td>\n",
       "      <td>76</td>\n",
       "      <td>3</td>\n",
       "      <td>26</td>\n",
       "      <td>1</td>\n",
       "      <td>between_1_2_years</td>\n",
       "      <td>No</td>\n",
       "      <td>0</td>\n",
       "      <td>33536.0</td>\n",
       "      <td>183</td>\n",
       "      <td>0</td>\n",
       "    </tr>\n",
       "    <tr>\n",
       "      <th>2</th>\n",
       "      <td>3</td>\n",
       "      <td>Male</td>\n",
       "      <td>47</td>\n",
       "      <td>28</td>\n",
       "      <td>26</td>\n",
       "      <td>1</td>\n",
       "      <td>more_than_2_years</td>\n",
       "      <td>Yes</td>\n",
       "      <td>0</td>\n",
       "      <td>38294.0</td>\n",
       "      <td>27</td>\n",
       "      <td>1</td>\n",
       "    </tr>\n",
       "    <tr>\n",
       "      <th>3</th>\n",
       "      <td>4</td>\n",
       "      <td>Male</td>\n",
       "      <td>21</td>\n",
       "      <td>11</td>\n",
       "      <td>152</td>\n",
       "      <td>1</td>\n",
       "      <td>below_1_year</td>\n",
       "      <td>No</td>\n",
       "      <td>1</td>\n",
       "      <td>28619.0</td>\n",
       "      <td>203</td>\n",
       "      <td>0</td>\n",
       "    </tr>\n",
       "    <tr>\n",
       "      <th>4</th>\n",
       "      <td>5</td>\n",
       "      <td>Female</td>\n",
       "      <td>29</td>\n",
       "      <td>41</td>\n",
       "      <td>152</td>\n",
       "      <td>1</td>\n",
       "      <td>below_1_year</td>\n",
       "      <td>No</td>\n",
       "      <td>1</td>\n",
       "      <td>27496.0</td>\n",
       "      <td>39</td>\n",
       "      <td>0</td>\n",
       "    </tr>\n",
       "    <tr>\n",
       "      <th>...</th>\n",
       "      <td>...</td>\n",
       "      <td>...</td>\n",
       "      <td>...</td>\n",
       "      <td>...</td>\n",
       "      <td>...</td>\n",
       "      <td>...</td>\n",
       "      <td>...</td>\n",
       "      <td>...</td>\n",
       "      <td>...</td>\n",
       "      <td>...</td>\n",
       "      <td>...</td>\n",
       "      <td>...</td>\n",
       "    </tr>\n",
       "    <tr>\n",
       "      <th>381104</th>\n",
       "      <td>381105</td>\n",
       "      <td>Male</td>\n",
       "      <td>74</td>\n",
       "      <td>26</td>\n",
       "      <td>26</td>\n",
       "      <td>1</td>\n",
       "      <td>between_1_2_years</td>\n",
       "      <td>No</td>\n",
       "      <td>1</td>\n",
       "      <td>30170.0</td>\n",
       "      <td>88</td>\n",
       "      <td>0</td>\n",
       "    </tr>\n",
       "    <tr>\n",
       "      <th>381105</th>\n",
       "      <td>381106</td>\n",
       "      <td>Male</td>\n",
       "      <td>30</td>\n",
       "      <td>37</td>\n",
       "      <td>152</td>\n",
       "      <td>1</td>\n",
       "      <td>below_1_year</td>\n",
       "      <td>No</td>\n",
       "      <td>1</td>\n",
       "      <td>40016.0</td>\n",
       "      <td>131</td>\n",
       "      <td>0</td>\n",
       "    </tr>\n",
       "    <tr>\n",
       "      <th>381106</th>\n",
       "      <td>381107</td>\n",
       "      <td>Male</td>\n",
       "      <td>21</td>\n",
       "      <td>30</td>\n",
       "      <td>160</td>\n",
       "      <td>1</td>\n",
       "      <td>below_1_year</td>\n",
       "      <td>No</td>\n",
       "      <td>1</td>\n",
       "      <td>35118.0</td>\n",
       "      <td>161</td>\n",
       "      <td>0</td>\n",
       "    </tr>\n",
       "    <tr>\n",
       "      <th>381107</th>\n",
       "      <td>381108</td>\n",
       "      <td>Female</td>\n",
       "      <td>68</td>\n",
       "      <td>14</td>\n",
       "      <td>124</td>\n",
       "      <td>1</td>\n",
       "      <td>more_than_2_years</td>\n",
       "      <td>Yes</td>\n",
       "      <td>0</td>\n",
       "      <td>44617.0</td>\n",
       "      <td>74</td>\n",
       "      <td>0</td>\n",
       "    </tr>\n",
       "    <tr>\n",
       "      <th>381108</th>\n",
       "      <td>381109</td>\n",
       "      <td>Male</td>\n",
       "      <td>46</td>\n",
       "      <td>29</td>\n",
       "      <td>26</td>\n",
       "      <td>1</td>\n",
       "      <td>between_1_2_years</td>\n",
       "      <td>No</td>\n",
       "      <td>0</td>\n",
       "      <td>41777.0</td>\n",
       "      <td>237</td>\n",
       "      <td>0</td>\n",
       "    </tr>\n",
       "  </tbody>\n",
       "</table>\n",
       "<p>381109 rows × 12 columns</p>\n",
       "</div>"
      ],
      "text/plain": [
       "            id  gender  age  region_code  policy_sales_channel  driving_license        vehicle_age vehicle_damage  previously_insured  annual_premium  days_associated  response\n",
       "0            1    Male   44           28                    26                1  more_than_2_years            Yes                   0         40454.0              217         1\n",
       "1            2    Male   76            3                    26                1  between_1_2_years             No                   0         33536.0              183         0\n",
       "2            3    Male   47           28                    26                1  more_than_2_years            Yes                   0         38294.0               27         1\n",
       "3            4    Male   21           11                   152                1       below_1_year             No                   1         28619.0              203         0\n",
       "4            5  Female   29           41                   152                1       below_1_year             No                   1         27496.0               39         0\n",
       "...        ...     ...  ...          ...                   ...              ...                ...            ...                 ...             ...              ...       ...\n",
       "381104  381105    Male   74           26                    26                1  between_1_2_years             No                   1         30170.0               88         0\n",
       "381105  381106    Male   30           37                   152                1       below_1_year             No                   1         40016.0              131         0\n",
       "381106  381107    Male   21           30                   160                1       below_1_year             No                   1         35118.0              161         0\n",
       "381107  381108  Female   68           14                   124                1  more_than_2_years            Yes                   0         44617.0               74         0\n",
       "381108  381109    Male   46           29                    26                1  between_1_2_years             No                   0         41777.0              237         0\n",
       "\n",
       "[381109 rows x 12 columns]"
      ]
     },
     "execution_count": 24,
     "metadata": {},
     "output_type": "execute_result"
    }
   ],
   "source": [
    "df6"
   ]
  },
  {
   "cell_type": "code",
   "execution_count": 25,
   "id": "624c7b3d",
   "metadata": {
    "ExecuteTime": {
     "end_time": "2023-03-31T17:13:34.540397Z",
     "start_time": "2023-03-31T17:13:34.349118Z"
    }
   },
   "outputs": [],
   "source": [
    "# One Hot Encoding\n",
    "df6['vehicle_damage'] = df6['vehicle_damage'].apply(lambda x: 1 if x=='Yes' else 0)\n",
    "df6['gender'] = df6['gender'].apply(lambda x: 1 if x=='Male' else 0)\n",
    "\n",
    "# Target Encoding\n",
    "vehicle_age_encoding = {'below_1_year':1, 'between_1_2_years':2, 'more_than_2_years':3}\n",
    "df6['vehicle_age'] = df6['vehicle_age'].map(vehicle_age_encoding) "
   ]
  },
  {
   "cell_type": "code",
   "execution_count": 26,
   "id": "8e5d62ba",
   "metadata": {
    "ExecuteTime": {
     "end_time": "2023-03-31T17:13:35.275464Z",
     "start_time": "2023-03-31T17:13:35.254460Z"
    }
   },
   "outputs": [
    {
     "data": {
      "text/html": [
       "<div>\n",
       "<style scoped>\n",
       "    .dataframe tbody tr th:only-of-type {\n",
       "        vertical-align: middle;\n",
       "    }\n",
       "\n",
       "    .dataframe tbody tr th {\n",
       "        vertical-align: top;\n",
       "    }\n",
       "\n",
       "    .dataframe thead th {\n",
       "        text-align: right;\n",
       "    }\n",
       "</style>\n",
       "<table border=\"1\" class=\"dataframe\">\n",
       "  <thead>\n",
       "    <tr style=\"text-align: right;\">\n",
       "      <th></th>\n",
       "      <th>id</th>\n",
       "      <th>gender</th>\n",
       "      <th>age</th>\n",
       "      <th>region_code</th>\n",
       "      <th>policy_sales_channel</th>\n",
       "      <th>driving_license</th>\n",
       "      <th>vehicle_age</th>\n",
       "      <th>vehicle_damage</th>\n",
       "      <th>previously_insured</th>\n",
       "      <th>annual_premium</th>\n",
       "      <th>days_associated</th>\n",
       "      <th>response</th>\n",
       "    </tr>\n",
       "  </thead>\n",
       "  <tbody>\n",
       "    <tr>\n",
       "      <th>0</th>\n",
       "      <td>1</td>\n",
       "      <td>1</td>\n",
       "      <td>44</td>\n",
       "      <td>28</td>\n",
       "      <td>26</td>\n",
       "      <td>1</td>\n",
       "      <td>3</td>\n",
       "      <td>1</td>\n",
       "      <td>0</td>\n",
       "      <td>40454.0</td>\n",
       "      <td>217</td>\n",
       "      <td>1</td>\n",
       "    </tr>\n",
       "    <tr>\n",
       "      <th>1</th>\n",
       "      <td>2</td>\n",
       "      <td>1</td>\n",
       "      <td>76</td>\n",
       "      <td>3</td>\n",
       "      <td>26</td>\n",
       "      <td>1</td>\n",
       "      <td>2</td>\n",
       "      <td>0</td>\n",
       "      <td>0</td>\n",
       "      <td>33536.0</td>\n",
       "      <td>183</td>\n",
       "      <td>0</td>\n",
       "    </tr>\n",
       "    <tr>\n",
       "      <th>2</th>\n",
       "      <td>3</td>\n",
       "      <td>1</td>\n",
       "      <td>47</td>\n",
       "      <td>28</td>\n",
       "      <td>26</td>\n",
       "      <td>1</td>\n",
       "      <td>3</td>\n",
       "      <td>1</td>\n",
       "      <td>0</td>\n",
       "      <td>38294.0</td>\n",
       "      <td>27</td>\n",
       "      <td>1</td>\n",
       "    </tr>\n",
       "    <tr>\n",
       "      <th>3</th>\n",
       "      <td>4</td>\n",
       "      <td>1</td>\n",
       "      <td>21</td>\n",
       "      <td>11</td>\n",
       "      <td>152</td>\n",
       "      <td>1</td>\n",
       "      <td>1</td>\n",
       "      <td>0</td>\n",
       "      <td>1</td>\n",
       "      <td>28619.0</td>\n",
       "      <td>203</td>\n",
       "      <td>0</td>\n",
       "    </tr>\n",
       "    <tr>\n",
       "      <th>4</th>\n",
       "      <td>5</td>\n",
       "      <td>0</td>\n",
       "      <td>29</td>\n",
       "      <td>41</td>\n",
       "      <td>152</td>\n",
       "      <td>1</td>\n",
       "      <td>1</td>\n",
       "      <td>0</td>\n",
       "      <td>1</td>\n",
       "      <td>27496.0</td>\n",
       "      <td>39</td>\n",
       "      <td>0</td>\n",
       "    </tr>\n",
       "    <tr>\n",
       "      <th>...</th>\n",
       "      <td>...</td>\n",
       "      <td>...</td>\n",
       "      <td>...</td>\n",
       "      <td>...</td>\n",
       "      <td>...</td>\n",
       "      <td>...</td>\n",
       "      <td>...</td>\n",
       "      <td>...</td>\n",
       "      <td>...</td>\n",
       "      <td>...</td>\n",
       "      <td>...</td>\n",
       "      <td>...</td>\n",
       "    </tr>\n",
       "    <tr>\n",
       "      <th>381104</th>\n",
       "      <td>381105</td>\n",
       "      <td>1</td>\n",
       "      <td>74</td>\n",
       "      <td>26</td>\n",
       "      <td>26</td>\n",
       "      <td>1</td>\n",
       "      <td>2</td>\n",
       "      <td>0</td>\n",
       "      <td>1</td>\n",
       "      <td>30170.0</td>\n",
       "      <td>88</td>\n",
       "      <td>0</td>\n",
       "    </tr>\n",
       "    <tr>\n",
       "      <th>381105</th>\n",
       "      <td>381106</td>\n",
       "      <td>1</td>\n",
       "      <td>30</td>\n",
       "      <td>37</td>\n",
       "      <td>152</td>\n",
       "      <td>1</td>\n",
       "      <td>1</td>\n",
       "      <td>0</td>\n",
       "      <td>1</td>\n",
       "      <td>40016.0</td>\n",
       "      <td>131</td>\n",
       "      <td>0</td>\n",
       "    </tr>\n",
       "    <tr>\n",
       "      <th>381106</th>\n",
       "      <td>381107</td>\n",
       "      <td>1</td>\n",
       "      <td>21</td>\n",
       "      <td>30</td>\n",
       "      <td>160</td>\n",
       "      <td>1</td>\n",
       "      <td>1</td>\n",
       "      <td>0</td>\n",
       "      <td>1</td>\n",
       "      <td>35118.0</td>\n",
       "      <td>161</td>\n",
       "      <td>0</td>\n",
       "    </tr>\n",
       "    <tr>\n",
       "      <th>381107</th>\n",
       "      <td>381108</td>\n",
       "      <td>0</td>\n",
       "      <td>68</td>\n",
       "      <td>14</td>\n",
       "      <td>124</td>\n",
       "      <td>1</td>\n",
       "      <td>3</td>\n",
       "      <td>1</td>\n",
       "      <td>0</td>\n",
       "      <td>44617.0</td>\n",
       "      <td>74</td>\n",
       "      <td>0</td>\n",
       "    </tr>\n",
       "    <tr>\n",
       "      <th>381108</th>\n",
       "      <td>381109</td>\n",
       "      <td>1</td>\n",
       "      <td>46</td>\n",
       "      <td>29</td>\n",
       "      <td>26</td>\n",
       "      <td>1</td>\n",
       "      <td>2</td>\n",
       "      <td>0</td>\n",
       "      <td>0</td>\n",
       "      <td>41777.0</td>\n",
       "      <td>237</td>\n",
       "      <td>0</td>\n",
       "    </tr>\n",
       "  </tbody>\n",
       "</table>\n",
       "<p>381109 rows × 12 columns</p>\n",
       "</div>"
      ],
      "text/plain": [
       "            id  gender  age  region_code  policy_sales_channel  driving_license  vehicle_age  vehicle_damage  previously_insured  annual_premium  days_associated  response\n",
       "0            1       1   44           28                    26                1            3               1                   0         40454.0              217         1\n",
       "1            2       1   76            3                    26                1            2               0                   0         33536.0              183         0\n",
       "2            3       1   47           28                    26                1            3               1                   0         38294.0               27         1\n",
       "3            4       1   21           11                   152                1            1               0                   1         28619.0              203         0\n",
       "4            5       0   29           41                   152                1            1               0                   1         27496.0               39         0\n",
       "...        ...     ...  ...          ...                   ...              ...          ...             ...                 ...             ...              ...       ...\n",
       "381104  381105       1   74           26                    26                1            2               0                   1         30170.0               88         0\n",
       "381105  381106       1   30           37                   152                1            1               0                   1         40016.0              131         0\n",
       "381106  381107       1   21           30                   160                1            1               0                   1         35118.0              161         0\n",
       "381107  381108       0   68           14                   124                1            3               1                   0         44617.0               74         0\n",
       "381108  381109       1   46           29                    26                1            2               0                   0         41777.0              237         0\n",
       "\n",
       "[381109 rows x 12 columns]"
      ]
     },
     "execution_count": 26,
     "metadata": {},
     "output_type": "execute_result"
    }
   ],
   "source": [
    "df6"
   ]
  },
  {
   "cell_type": "markdown",
   "id": "052ca8a3",
   "metadata": {},
   "source": [
    "# 7.0 Feature Selection"
   ]
  },
  {
   "cell_type": "code",
   "execution_count": 30,
   "id": "8e1ed26b",
   "metadata": {
    "ExecuteTime": {
     "end_time": "2023-03-31T17:14:45.137922Z",
     "start_time": "2023-03-31T17:14:45.108402Z"
    }
   },
   "outputs": [],
   "source": [
    "df7 = df6.copy()"
   ]
  },
  {
   "cell_type": "markdown",
   "id": "65424279",
   "metadata": {},
   "source": [
    "# 8.0. Machine Learning Model"
   ]
  },
  {
   "cell_type": "code",
   "execution_count": 31,
   "id": "7ee2e928",
   "metadata": {
    "ExecuteTime": {
     "end_time": "2023-03-31T17:14:46.573035Z",
     "start_time": "2023-03-31T17:14:46.558030Z"
    }
   },
   "outputs": [],
   "source": [
    "df8 = df7.copy()"
   ]
  },
  {
   "cell_type": "code",
   "execution_count": 47,
   "id": "a993ba58",
   "metadata": {
    "ExecuteTime": {
     "end_time": "2023-03-31T17:20:00.797852Z",
     "start_time": "2023-03-31T17:20:00.785850Z"
    }
   },
   "outputs": [
    {
     "data": {
      "text/plain": [
       "id                       object\n",
       "gender                    int64\n",
       "age                       int64\n",
       "region_code               int64\n",
       "policy_sales_channel      int64\n",
       "driving_license           int64\n",
       "vehicle_age               int64\n",
       "vehicle_damage            int64\n",
       "previously_insured        int64\n",
       "annual_premium          float64\n",
       "days_associated           int64\n",
       "response                  int64\n",
       "dtype: object"
      ]
     },
     "execution_count": 47,
     "metadata": {},
     "output_type": "execute_result"
    }
   ],
   "source": [
    "df8.dtypes"
   ]
  },
  {
   "cell_type": "code",
   "execution_count": 52,
   "id": "2420be04",
   "metadata": {
    "ExecuteTime": {
     "end_time": "2023-03-31T17:23:05.236539Z",
     "start_time": "2023-03-31T17:23:05.177516Z"
    }
   },
   "outputs": [],
   "source": [
    "X = df8.drop(columns=['id','response'])\n",
    "y = df8['response']\n",
    "\n",
    "X_train, X_test, y_train, y_test = train_test_split(X, y, random_state=42)"
   ]
  },
  {
   "cell_type": "code",
   "execution_count": 56,
   "id": "607f0dc1",
   "metadata": {
    "ExecuteTime": {
     "end_time": "2023-03-31T17:23:27.000679Z",
     "start_time": "2023-03-31T17:23:25.841253Z"
    }
   },
   "outputs": [
    {
     "data": {
      "text/html": [
       "<style>#sk-container-id-2 {color: black;background-color: white;}#sk-container-id-2 pre{padding: 0;}#sk-container-id-2 div.sk-toggleable {background-color: white;}#sk-container-id-2 label.sk-toggleable__label {cursor: pointer;display: block;width: 100%;margin-bottom: 0;padding: 0.3em;box-sizing: border-box;text-align: center;}#sk-container-id-2 label.sk-toggleable__label-arrow:before {content: \"▸\";float: left;margin-right: 0.25em;color: #696969;}#sk-container-id-2 label.sk-toggleable__label-arrow:hover:before {color: black;}#sk-container-id-2 div.sk-estimator:hover label.sk-toggleable__label-arrow:before {color: black;}#sk-container-id-2 div.sk-toggleable__content {max-height: 0;max-width: 0;overflow: hidden;text-align: left;background-color: #f0f8ff;}#sk-container-id-2 div.sk-toggleable__content pre {margin: 0.2em;color: black;border-radius: 0.25em;background-color: #f0f8ff;}#sk-container-id-2 input.sk-toggleable__control:checked~div.sk-toggleable__content {max-height: 200px;max-width: 100%;overflow: auto;}#sk-container-id-2 input.sk-toggleable__control:checked~label.sk-toggleable__label-arrow:before {content: \"▾\";}#sk-container-id-2 div.sk-estimator input.sk-toggleable__control:checked~label.sk-toggleable__label {background-color: #d4ebff;}#sk-container-id-2 div.sk-label input.sk-toggleable__control:checked~label.sk-toggleable__label {background-color: #d4ebff;}#sk-container-id-2 input.sk-hidden--visually {border: 0;clip: rect(1px 1px 1px 1px);clip: rect(1px, 1px, 1px, 1px);height: 1px;margin: -1px;overflow: hidden;padding: 0;position: absolute;width: 1px;}#sk-container-id-2 div.sk-estimator {font-family: monospace;background-color: #f0f8ff;border: 1px dotted black;border-radius: 0.25em;box-sizing: border-box;margin-bottom: 0.5em;}#sk-container-id-2 div.sk-estimator:hover {background-color: #d4ebff;}#sk-container-id-2 div.sk-parallel-item::after {content: \"\";width: 100%;border-bottom: 1px solid gray;flex-grow: 1;}#sk-container-id-2 div.sk-label:hover label.sk-toggleable__label {background-color: #d4ebff;}#sk-container-id-2 div.sk-serial::before {content: \"\";position: absolute;border-left: 1px solid gray;box-sizing: border-box;top: 0;bottom: 0;left: 50%;z-index: 0;}#sk-container-id-2 div.sk-serial {display: flex;flex-direction: column;align-items: center;background-color: white;padding-right: 0.2em;padding-left: 0.2em;position: relative;}#sk-container-id-2 div.sk-item {position: relative;z-index: 1;}#sk-container-id-2 div.sk-parallel {display: flex;align-items: stretch;justify-content: center;background-color: white;position: relative;}#sk-container-id-2 div.sk-item::before, #sk-container-id-2 div.sk-parallel-item::before {content: \"\";position: absolute;border-left: 1px solid gray;box-sizing: border-box;top: 0;bottom: 0;left: 50%;z-index: -1;}#sk-container-id-2 div.sk-parallel-item {display: flex;flex-direction: column;z-index: 1;position: relative;background-color: white;}#sk-container-id-2 div.sk-parallel-item:first-child::after {align-self: flex-end;width: 50%;}#sk-container-id-2 div.sk-parallel-item:last-child::after {align-self: flex-start;width: 50%;}#sk-container-id-2 div.sk-parallel-item:only-child::after {width: 0;}#sk-container-id-2 div.sk-dashed-wrapped {border: 1px dashed gray;margin: 0 0.4em 0.5em 0.4em;box-sizing: border-box;padding-bottom: 0.4em;background-color: white;}#sk-container-id-2 div.sk-label label {font-family: monospace;font-weight: bold;display: inline-block;line-height: 1.2em;}#sk-container-id-2 div.sk-label-container {text-align: center;}#sk-container-id-2 div.sk-container {/* jupyter's `normalize.less` sets `[hidden] { display: none; }` but bootstrap.min.css set `[hidden] { display: none !important; }` so we also need the `!important` here to be able to override the default hidden behavior on the sphinx rendered scikit-learn.org. See: https://github.com/scikit-learn/scikit-learn/issues/21755 */display: inline-block !important;position: relative;}#sk-container-id-2 div.sk-text-repr-fallback {display: none;}</style><div id=\"sk-container-id-2\" class=\"sk-top-container\"><div class=\"sk-text-repr-fallback\"><pre>LogisticRegression(max_iter=1000)</pre><b>In a Jupyter environment, please rerun this cell to show the HTML representation or trust the notebook. <br />On GitHub, the HTML representation is unable to render, please try loading this page with nbviewer.org.</b></div><div class=\"sk-container\" hidden><div class=\"sk-item\"><div class=\"sk-estimator sk-toggleable\"><input class=\"sk-toggleable__control sk-hidden--visually\" id=\"sk-estimator-id-2\" type=\"checkbox\" checked><label for=\"sk-estimator-id-2\" class=\"sk-toggleable__label sk-toggleable__label-arrow\">LogisticRegression</label><div class=\"sk-toggleable__content\"><pre>LogisticRegression(max_iter=1000)</pre></div></div></div></div></div>"
      ],
      "text/plain": [
       "LogisticRegression(max_iter=1000)"
      ]
     },
     "execution_count": 56,
     "metadata": {},
     "output_type": "execute_result"
    }
   ],
   "source": [
    "lr = LogisticRegression( max_iter=1000 )\n",
    "\n",
    "lr.fit(X_train, y_train)"
   ]
  },
  {
   "cell_type": "code",
   "execution_count": 57,
   "id": "b791b510",
   "metadata": {
    "ExecuteTime": {
     "end_time": "2023-03-31T17:23:31.106631Z",
     "start_time": "2023-03-31T17:23:31.087634Z"
    }
   },
   "outputs": [],
   "source": [
    "y_predict = lr.predict( X_test )"
   ]
  },
  {
   "cell_type": "code",
   "execution_count": 58,
   "id": "cadef8b1",
   "metadata": {
    "ExecuteTime": {
     "end_time": "2023-03-31T17:23:37.077482Z",
     "start_time": "2023-03-31T17:23:37.064478Z"
    }
   },
   "outputs": [
    {
     "data": {
      "text/plain": [
       "0.8712819328701275"
      ]
     },
     "execution_count": 58,
     "metadata": {},
     "output_type": "execute_result"
    }
   ],
   "source": [
    "mt.accuracy_score(y_test, y_predict)"
   ]
  },
  {
   "cell_type": "code",
   "execution_count": 59,
   "id": "407c0074",
   "metadata": {
    "ExecuteTime": {
     "end_time": "2023-03-31T17:23:39.443181Z",
     "start_time": "2023-03-31T17:23:39.421176Z"
    }
   },
   "outputs": [
    {
     "data": {
      "text/plain": [
       "0.05091372715682108"
      ]
     },
     "execution_count": 59,
     "metadata": {},
     "output_type": "execute_result"
    }
   ],
   "source": [
    "mt.recall_score(y_test, y_predict)"
   ]
  },
  {
   "cell_type": "code",
   "execution_count": 60,
   "id": "199c9ffa",
   "metadata": {
    "ExecuteTime": {
     "end_time": "2023-03-31T17:23:42.642875Z",
     "start_time": "2023-03-31T17:23:42.621870Z"
    }
   },
   "outputs": [
    {
     "data": {
      "text/plain": [
       "0.08899123458624275"
      ]
     },
     "execution_count": 60,
     "metadata": {},
     "output_type": "execute_result"
    }
   ],
   "source": [
    "mt.f1_score(y_test, y_predict)"
   ]
  },
  {
   "cell_type": "code",
   "execution_count": 61,
   "id": "4bd38988",
   "metadata": {
    "ExecuteTime": {
     "end_time": "2023-03-31T17:23:47.099348Z",
     "start_time": "2023-03-31T17:23:47.080343Z"
    }
   },
   "outputs": [
    {
     "data": {
      "text/plain": [
       "0.3529758397171479"
      ]
     },
     "execution_count": 61,
     "metadata": {},
     "output_type": "execute_result"
    }
   ],
   "source": [
    "mt.precision_score(y_test, y_predict, labels=1)"
   ]
  },
  {
   "cell_type": "code",
   "execution_count": 63,
   "id": "2ca3ff73",
   "metadata": {
    "ExecuteTime": {
     "end_time": "2023-03-31T21:14:45.580546Z",
     "start_time": "2023-03-31T21:14:45.546028Z"
    }
   },
   "outputs": [
    {
     "data": {
      "text/plain": [
       "gender\n",
       "Female    0.103902\n",
       "Male      0.138411\n",
       "Name: response, dtype: float64"
      ]
     },
     "execution_count": 63,
     "metadata": {},
     "output_type": "execute_result"
    }
   ],
   "source": [
    "gender_target_encoder = df4.groupby('gender')['response'].mean()\n",
    "gender_target_encoder"
   ]
  }
 ],
 "metadata": {
  "kernelspec": {
   "display_name": "Python 3 (ipykernel)",
   "language": "python",
   "name": "python3"
  },
  "language_info": {
   "codemirror_mode": {
    "name": "ipython",
    "version": 3
   },
   "file_extension": ".py",
   "mimetype": "text/x-python",
   "name": "python",
   "nbconvert_exporter": "python",
   "pygments_lexer": "ipython3",
   "version": "3.10.10"
  },
  "varInspector": {
   "cols": {
    "lenName": 16,
    "lenType": 16,
    "lenVar": 40
   },
   "kernels_config": {
    "python": {
     "delete_cmd_postfix": "",
     "delete_cmd_prefix": "del ",
     "library": "var_list.py",
     "varRefreshCmd": "print(var_dic_list())"
    },
    "r": {
     "delete_cmd_postfix": ") ",
     "delete_cmd_prefix": "rm(",
     "library": "var_list.r",
     "varRefreshCmd": "cat(var_dic_list()) "
    }
   },
   "types_to_exclude": [
    "module",
    "function",
    "builtin_function_or_method",
    "instance",
    "_Feature"
   ],
   "window_display": false
  }
 },
 "nbformat": 4,
 "nbformat_minor": 5
}
